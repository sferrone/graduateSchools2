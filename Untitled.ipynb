{
 "cells": [
  {
   "cell_type": "code",
   "execution_count": 1,
   "metadata": {},
   "outputs": [],
   "source": [
    "import csv"
   ]
  },
  {
   "cell_type": "code",
   "execution_count": 6,
   "metadata": {},
   "outputs": [
    {
     "name": "stdout",
     "output_type": "stream",
     "text": [
      "['Name', 'Major/ Occupation', 'Type', 'deadline', 'Number of Recomendors', 'Location', 'Link', 'Cost', 'Scholarship link', 'Scholarship deadline', 'Note', 'Language', 'application fees']\n",
      "Ecole politechnique de Lausanne\n",
      "Physics\n",
      "Masters\n",
      "April 15\n",
      "3\n",
      "Lausanne, Switz\n",
      "https://www.epfl.ch/education/master/programs/physics/\n",
      "$710\n",
      "?\n",
      "?\n",
      "there r mountains\n",
      "French/ english\n",
      "150\n",
      "Universita della svizzera italiana\n",
      "Computational Science\n",
      "Masters\n",
      "April 30\n",
      "?\n",
      "Lugano, Switzerland\n",
      "https://www.usi.ch/en/education/master/computational-science\n",
      "$4,000\n",
      "https://www.usi.ch/en/education/master/fees-and-grants\n",
      "varies\n",
      "\n",
      "\n",
      "0\n",
      "Politecnico di Torino\n",
      "Physics\n",
      "Masters\n",
      "?\n",
      "?\n",
      "Torino, Italy\n",
      "https://didattica.polito.it/\n",
      "?\n",
      "?\n",
      "?\n",
      "\n",
      "\n",
      "?\n",
      "Bologna\n",
      "Physics/Astro/Computer Science\n",
      "Masters\n",
      "\n",
      "?\n",
      "Bologna, italy\n",
      "\n",
      "3,114 USD/year.\n",
      "https://www.unibo.it/en/services-and-opportunities/study-grants-and-subsidies/exemptions-and-incentives/unibo-actions-1-2-study-grants-and-tuition-fee-waivers-for-international-students/Unibo-actions-1-and--2-study-grants-and-tuition-fee-waivers-for-international-students\n",
      "31 March 2019\n",
      "I think that bologna only gives out scholarships in the rank order of those who apply and their scores on the GRE: \"According to the order of the ranking, winners will be assigned Unibo Action 2 study grants until all the grants are used up. Next, winners in the subsequent positions will be assigned Unibo Action 1 tuition fee waivers, until the entire budget is used up. It is not possible to receive both benefits.   \n",
      "\n",
      "\"\n",
      "Italian/ english\n",
      "?\n",
      "Roma La Sapienza\n",
      "Physics\n",
      "Masters\n",
      "Not yet announced\n",
      "?\n",
      "Rome, Italy\n",
      "\n",
      "I think 1000 Euros per semester, not clear\n",
      "https://www.uniroma1.it/en/pagina/scholarships-0\n",
      "?? I don't think any are avliable yet\n",
      "Here is a link to the scholarships. I don't think any are yet avaliable for 2020-2021, but I saw some due for feb 22 2020. Not sure if they are for this yer or next though...\n",
      "Italian/ english\n",
      "?\n"
     ]
    }
   ],
   "source": [
    "my_list=[]\n",
    "\n",
    "f = open(\"Gradschools.csv\",'r')\n",
    "reader = csv.reader(f)\n",
    "headers = next(reader, None)\n",
    "print(headers)\n",
    "for row in reader:\n",
    "    len(row)\n",
    "    for col in range(len(row)):\n",
    "        print(row[col])\n",
    "#my_list.append(row[col])\n",
    "            \n",
    "#print(my_list\n",
    "\n",
    "def change_dropdown(*args):\n",
    "    print(tkvar.get())"
   ]
  },
  {
   "cell_type": "code",
   "execution_count": null,
   "metadata": {},
   "outputs": [],
   "source": []
  }
 ],
 "metadata": {
  "kernelspec": {
   "display_name": "Python 3",
   "language": "python",
   "name": "python3"
  },
  "language_info": {
   "codemirror_mode": {
    "name": "ipython",
    "version": 3
   },
   "file_extension": ".py",
   "mimetype": "text/x-python",
   "name": "python",
   "nbconvert_exporter": "python",
   "pygments_lexer": "ipython3",
   "version": "3.7.6"
  }
 },
 "nbformat": 4,
 "nbformat_minor": 2
}
